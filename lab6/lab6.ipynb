{
 "cells": [
  {
   "cell_type": "code",
   "execution_count": 1,
   "metadata": {},
   "outputs": [
    {
     "name": "stdout",
     "output_type": "stream",
     "text": [
      "Wpisz wartosci\n",
      "2\n",
      "3\n",
      "4\n",
      "5\n",
      "6\n",
      "7\n",
      "8\n",
      "9\n",
      "75\n",
      "3.375\n",
      "{0: 1.125, 1: 0.0, 2: 0.0}\n"
     ]
    },
    {
     "name": "stderr",
     "output_type": "stream",
     "text": [
      "/usr/lib/python2.7/json/encoder.py:207: DeprecationWarning: Interpreting naive datetime as local 2017-04-23 21:07:43.946529. Please add timezone info to timestamps.\n",
      "  chunks = self.iterencode(o, _one_shot=True)\n"
     ]
    }
   ],
   "source": [
    "lp = MixedIntegerLinearProgram(maximization=True)\n",
    "x = lp.new_variable()\n",
    "\n",
    "lp.set_objective(3*x[0] + 2*x[1] -7*x[2])\n",
    "\n",
    "# zadanie wartosci\n",
    "print(\"Wpisz wartosci\")\n",
    "a = int(input())\n",
    "b = int(input())\n",
    "c = int(input())\n",
    "d = int(input())\n",
    "f = int(input())\n",
    "g = int(input())\n",
    "h = int(input())\n",
    "j = int(input())\n",
    "k = int(input())\n",
    "# granice\n",
    "lp.add_constraint(a*x[0]+b*x[1]+c*x[2], max=3)\n",
    "lp.add_constraint(d*x[0]+f*x[1]+g*x[2], max=8)\n",
    "lp.add_constraint(h*x[0]+j*x[1]+k*x[2], max=9)\n",
    "lp.add_constraint(x[1], min=0)\n",
    "lp.add_constraint(x[0], min=0)\n",
    "lp.add_constraint(x[2], min=0)\n",
    "\n",
    "# wynik liczenia\n",
    "print lp.solve()\n",
    "\n",
    "# zmienne\n",
    "wartosc = lp.get_values(x)\n",
    "print wartosc"
   ]
  }
 ],
 "metadata": {
  "kernelspec": {
   "display_name": "SageMath 7.6",
   "language": "",
   "name": "sagemath"
  },
  "language_info": {
   "codemirror_mode": {
    "name": "ipython",
    "version": 2
   },
   "file_extension": ".py",
   "mimetype": "text/x-python",
   "name": "python",
   "nbconvert_exporter": "python",
   "pygments_lexer": "ipython2",
   "version": "2.7.13"
  }
 },
 "nbformat": 4,
 "nbformat_minor": 2
}

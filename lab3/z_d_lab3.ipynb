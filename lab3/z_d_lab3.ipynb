{
 "cells": [
  {
   "cell_type": "code",
   "execution_count": null,
   "metadata": {
    "collapsed": false,
    "scrolled": false
   },
   "outputs": [
    {
     "name": "stdout",
     "output_type": "stream",
     "text": [
      "Wpisz wartosci liczbowe\n",
      "1\n",
      "2\n",
      "3\n",
      "4\n",
      "5\n",
      "6\n",
      "2.0\n",
      "{0: 2.0, 1: 0.0}\n"
     ]
    }
   ],
   "source": [
    "lp = MixedIntegerLinearProgram(maximization=True)\n",
    "x = lp.new_variable()\n",
    "\n",
    "lp.set_objective(x[0] + x[1])\n",
    "\n",
    "# zadanie wartosci\n",
    "print(\"Wpisz wartosci\")\n",
    "a = int(input())\n",
    "b = int(input())\n",
    "c = int(input())\n",
    "d = int(input())\n",
    "f = int(input())\n",
    "g = int(input())\n",
    "\n",
    "# ograniczenia\n",
    "lp.add_constraint(a*x[0]+b*x[1], max=f)\n",
    "lp.add_constraint(c*x[0]+d*x[1], max=g)\n",
    "lp.add_constraint(x[1], min=0)\n",
    "lp.add_constraint(x[0], min=0)\n",
    "\n",
    "# wynik liczenia\n",
    "print lp.solve()\n",
    "\n",
    "# zmienne\n",
    "wart = lp.get_values(x)\n",
    "print wart\n",
    "\n",
    "\n"
   ]
  },
  {
   "cell_type": "code",
   "execution_count": null,
   "metadata": {
    "collapsed": true
   },
   "outputs": [],
   "source": []
  }
 ],
 "metadata": {
  "kernelspec": {
   "display_name": "SageMath 7.5.1",
   "language": "",
   "name": "sagemath"
  },
  "language_info": {
   "codemirror_mode": {
    "name": "ipython",
    "version": 2
   },
   "file_extension": ".py",
   "mimetype": "text/x-python",
   "name": "python",
   "nbconvert_exporter": "python",
   "pygments_lexer": "ipython2",
   "version": "2.7.13"
  }
 },
 "nbformat": 4,
 "nbformat_minor": 2
}
